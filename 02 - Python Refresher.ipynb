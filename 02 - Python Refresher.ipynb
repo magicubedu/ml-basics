{
  "cells": [
    {
      "cell_type": "markdown",
      "metadata": {
        "nteract": {
          "transient": {
            "deleting": false
          }
        }
      },
      "source": [
        "# Variables"
      ]
    },
    {
      "cell_type": "code",
      "execution_count": null,
      "metadata": {
        "gather": {
          "logged": 1626077692767
        }
      },
      "outputs": [],
      "source": [
        "var1 = 1\n",
        "var2 = 'mystring'\n",
        "result = var1 * 3\n",
        "\n",
        "print(f'result: {result}, string: {var2}')"
      ]
    },
    {
      "cell_type": "markdown",
      "metadata": {
        "nteract": {
          "transient": {
            "deleting": false
          }
        }
      },
      "source": [
        "# Conditional statement"
      ]
    },
    {
      "cell_type": "code",
      "execution_count": null,
      "metadata": {
        "collapsed": true,
        "gather": {
          "logged": 1626063807881
        },
        "jupyter": {
          "outputs_hidden": false,
          "source_hidden": false
        },
        "nteract": {
          "transient": {
            "deleting": false
          }
        }
      },
      "outputs": [],
      "source": [
        "a = 100\n",
        "b = 50\n",
        "if b > a:\n",
        "    print('b is greater than a')\n",
        "elif a == b:\n",
        "    print('a and b are equal')\n",
        "else:\n",
        "    print('a is greater than b')\n",
        "    \n"
      ]
    },
    {
      "cell_type": "markdown",
      "metadata": {
        "nteract": {
          "transient": {
            "deleting": false
          }
        }
      },
      "source": [
        "# Loop statment"
      ]
    },
    {
      "cell_type": "code",
      "execution_count": null,
      "metadata": {
        "collapsed": true,
        "jupyter": {
          "outputs_hidden": false,
          "source_hidden": false
        },
        "nteract": {
          "transient": {
            "deleting": false
          }
        }
      },
      "outputs": [],
      "source": [
        "# loop the list\n",
        "color = [\"red\", \"green\", \"blue\"]\n",
        "for x in color:\n",
        "  print(x)"
      ]
    },
    {
      "cell_type": "code",
      "execution_count": null,
      "metadata": {
        "collapsed": true,
        "gather": {
          "logged": 1626067861019
        },
        "jupyter": {
          "outputs_hidden": false,
          "source_hidden": false
        },
        "nteract": {
          "transient": {
            "deleting": false
          }
        }
      },
      "outputs": [],
      "source": [
        "# loop in range of numbers \n",
        "for x in range(10):\n",
        "  print(x)\n",
        "\n",
        "print('-----------------------')\n",
        "\n",
        "# loop in range with start, end and step\n",
        "# range(3, 10, 2) -> start at 3, end at 10, step 2 for each loop\n",
        "for x in range(3, 10, 2):\n",
        "  print(x)"
      ]
    },
    {
      "cell_type": "code",
      "execution_count": null,
      "metadata": {
        "collapsed": true,
        "gather": {
          "logged": 1626067869393
        },
        "jupyter": {
          "outputs_hidden": false,
          "source_hidden": false
        },
        "nteract": {
          "transient": {
            "deleting": false
          }
        }
      },
      "outputs": [],
      "source": [
        "# while loop\n",
        "i = 1\n",
        "while i < 4:\n",
        "  print(i)\n",
        "  i += 1"
      ]
    },
    {
      "cell_type": "markdown",
      "metadata": {
        "nteract": {
          "transient": {
            "deleting": false
          }
        }
      },
      "source": [
        "# Function\n"
      ]
    },
    {
      "cell_type": "code",
      "execution_count": null,
      "metadata": {
        "collapsed": true,
        "gather": {
          "logged": 1626068941827
        },
        "jupyter": {
          "outputs_hidden": false,
          "source_hidden": false
        },
        "nteract": {
          "transient": {
            "deleting": false
          }
        }
      },
      "outputs": [],
      "source": [
        "# define a function\n",
        "def my_function(x):\n",
        "  if(x < 3):\n",
        "    result = x - 1\n",
        "  else:\n",
        "    result = x + 1\n",
        "  return result\n",
        "\n",
        "# define a no return function\n",
        "def my_function2(x):\n",
        "    print(\"x is\", x)\n",
        "\n",
        "\n",
        "# call function\n",
        "print(my_function(3))\n",
        "my_function2(99)"
      ]
    },
    {
      "cell_type": "markdown",
      "metadata": {
        "nteract": {
          "transient": {
            "deleting": false
          }
        }
      },
      "source": [
        "# Class"
      ]
    },
    {
      "cell_type": "code",
      "execution_count": null,
      "metadata": {
        "collapsed": true,
        "gather": {
          "logged": 1626069281767
        },
        "jupyter": {
          "outputs_hidden": false,
          "source_hidden": false
        },
        "nteract": {
          "transient": {
            "deleting": false
          }
        }
      },
      "outputs": [],
      "source": [
        "# define a class\n",
        "class Animal:\n",
        "    def __init__(self, name, age):\n",
        "        self.name = name\n",
        "        self.age = age\n",
        "    \n",
        "    def sing(self):\n",
        "        print('I am', self.name)\n",
        "        print('bibibibibibibi~~~')\n",
        "\n",
        "m1 = Animal('Duffy', 5)\n",
        "print(m1.name)\n",
        "print(m1.age)\n",
        "m1.sing()"
      ]
    },
    {
      "cell_type": "markdown",
      "metadata": {
        "nteract": {
          "transient": {
            "deleting": false
          }
        }
      },
      "source": [
        "# Import Library "
      ]
    },
    {
      "cell_type": "code",
      "execution_count": null,
      "metadata": {
        "collapsed": true,
        "gather": {
          "logged": 1626069860913
        },
        "jupyter": {
          "outputs_hidden": false,
          "source_hidden": false
        },
        "nteract": {
          "transient": {
            "deleting": false
          }
        }
      },
      "outputs": [],
      "source": [
        "# import whole math library\n",
        "import math\n",
        "# import ceil function from math library\n",
        "from math import ceil\n",
        "# import datatime and give it a short name dt\n",
        "import datetime as dt\n",
        "\n",
        "# use sqrt in math library\n",
        "x = math.sqrt(64)\n",
        "print(x)\n",
        "\n",
        "# use ceil function directly\n",
        "y = ceil(3.1245)\n",
        "print(y)\n",
        "\n",
        "# use sqrt directly\n",
        "z = dt.datetime.now()\n",
        "print(z)"
      ]
    },
    {
      "cell_type": "markdown",
      "metadata": {
        "nteract": {
          "transient": {
            "deleting": false
          }
        }
      },
      "source": [
        "--------------------------"
      ]
    },
    {
      "cell_type": "markdown",
      "metadata": {
        "nteract": {
          "transient": {
            "deleting": false
          }
        }
      },
      "source": [
        "# Exercise: List \n",
        "\n",
        "Using the given list - animals:\n",
        "\n",
        "1. get 3rd elements.\n",
        "2. get 4th to 9th elements.\n",
        "3. get the last element.\n",
        "4. get element from 5th to the end.\n"
      ]
    },
    {
      "cell_type": "code",
      "execution_count": null,
      "metadata": {
        "collapsed": true,
        "gather": {
          "logged": 1626078664431
        },
        "jupyter": {
          "outputs_hidden": false,
          "source_hidden": false
        },
        "nteract": {
          "transient": {
            "deleting": false
          }
        }
      },
      "outputs": [],
      "source": [
        "animals = [\"dog\", \"cat\", \"rabbit\", \"bird\", \"frog\", \"pig\", \"hamster\", \"monkey\", \"turtle\", \"fish\", \"seal\", \"dolphin\"]\n",
        "print(animals)\n",
        "\n",
        "# your code\n",
        "third_element = 0\n",
        "forth_to_nineth = 0\n",
        "last_element = 0\n",
        "fifth_to_end = 0\n",
        "\n",
        "# print\n",
        "print('-----------------------------------')\n",
        "print('third element:', third_element)\n",
        "print('forth to nineth:', forth_to_nineth)\n",
        "print('last element:', last_element)\n",
        "print('fifth to end:', fifth_to_end)"
      ]
    },
    {
      "cell_type": "markdown",
      "metadata": {
        "nteract": {
          "transient": {
            "deleting": false
          }
        }
      },
      "source": [
        "# Exercise: Dictionary"
      ]
    },
    {
      "cell_type": "markdown",
      "metadata": {
        "nteract": {
          "transient": {
            "deleting": false
          }
        }
      },
      "source": [
        "Using the given dictionary:\n",
        "\n",
        "1. change the age to 6\n",
        "2. print all the items using its key name."
      ]
    },
    {
      "cell_type": "code",
      "execution_count": null,
      "metadata": {
        "collapsed": true,
        "jupyter": {
          "outputs_hidden": false,
          "source_hidden": false
        },
        "nteract": {
          "transient": {
            "deleting": false
          }
        }
      },
      "outputs": [],
      "source": [
        "animal = {\n",
        "    'name' : 'Duffy',\n",
        "    'type' : 'Chinhuahua',\n",
        "    'age' : 5\n",
        "}\n",
        "\n",
        "# your code\n"
      ]
    },
    {
      "cell_type": "markdown",
      "metadata": {
        "nteract": {
          "transient": {
            "deleting": false
          }
        }
      },
      "source": [
        "# Exercise: Conditional statement\n",
        "\n",
        "Grade exam by score:\n",
        "\n",
        "| Score | Grade |\n",
        "| :---: | :----:|\n",
        "| >=90  | A     |\n",
        "| >=80  | B     |\n",
        "| >=70  | C     |\n",
        "| >=60  | D     |\n",
        "| <60   | F     |\n",
        "\n",
        "Display the grade using the score with the conditional statement. For example print \"A\" if score is langer than 90.\n"
      ]
    },
    {
      "cell_type": "code",
      "execution_count": null,
      "metadata": {
        "collapsed": true,
        "jupyter": {
          "outputs_hidden": false,
          "source_hidden": false
        },
        "nteract": {
          "transient": {
            "deleting": false
          }
        }
      },
      "outputs": [],
      "source": [
        "score = 99 # change this score to make sure your code works\n",
        "\n",
        "# your code\n"
      ]
    },
    {
      "cell_type": "markdown",
      "metadata": {
        "nteract": {
          "transient": {
            "deleting": false
          }
        }
      },
      "source": [
        "# Exercise: Loop\n",
        "\n",
        "From the list given below:\n",
        "\n",
        "1. print all the values in list using a for loop.\n",
        "2. use loop to find and print the index of \"cherry\" (hints. len(fruits) to get length of the list)\n"
      ]
    },
    {
      "cell_type": "code",
      "execution_count": null,
      "metadata": {
        "collapsed": true,
        "gather": {
          "logged": 1626079010476
        },
        "jupyter": {
          "outputs_hidden": false,
          "source_hidden": false
        },
        "nteract": {
          "transient": {
            "deleting": false
          }
        }
      },
      "outputs": [],
      "source": [
        "fruits = [\"apple\", \"orange\", \"banana\", \"papaya\", \"strawberry\", \"pears\", \"cherry\", \"blueberry\"]\n",
        "\n",
        "# your code\n",
        "\n",
        "\n"
      ]
    },
    {
      "cell_type": "markdown",
      "metadata": {
        "nteract": {
          "transient": {
            "deleting": false
          }
        }
      },
      "source": [
        "# Exercise: Function\n",
        "\n",
        "Define a function **average** that can take a list and return the average of the list.\n",
        "\n",
        "**Hints:**\n",
        "- average = sum of the list / number of element in the list\n",
        "- default function: **sum** return the sum of the list (e.g. sum(list))\n",
        "- defualt function: **len** return the length of the list (e.g. len(list))\n",
        "\n"
      ]
    },
    {
      "cell_type": "code",
      "execution_count": null,
      "metadata": {
        "collapsed": true,
        "gather": {
          "logged": 1626079095538
        },
        "jupyter": {
          "outputs_hidden": false,
          "source_hidden": false
        },
        "nteract": {
          "transient": {
            "deleting": false
          }
        }
      },
      "outputs": [],
      "source": [
        "my_list = [1,3,5,1020,44,523,24]\n",
        "\n",
        "\n",
        "# your code\n",
        "# define a function call average\n",
        "\n",
        "\n",
        "\n",
        "print(round(average(my_list)))"
      ]
    },
    {
      "cell_type": "markdown",
      "metadata": {
        "nteract": {
          "transient": {
            "deleting": false
          }
        }
      },
      "source": [
        "# Exercise: Class/Object\n",
        "\n",
        "Given a class called \"Animal\":\n",
        "\n",
        "1. create animal object named \"tiger\" with speed 20\n",
        "2. create animal object named \"horse\" with speed 15\n",
        "3. call run method of two objects with times 3\n",
        "4. print run distance of two objects\n",
        "\n",
        "\n"
      ]
    },
    {
      "cell_type": "code",
      "execution_count": null,
      "metadata": {
        "collapsed": true,
        "gather": {
          "logged": 1626076153812
        },
        "jupyter": {
          "outputs_hidden": false,
          "source_hidden": false
        },
        "nteract": {
          "transient": {
            "deleting": false
          }
        }
      },
      "outputs": [],
      "source": [
        "class Animal:\n",
        "    def __init__(self, name, speed):\n",
        "        self.name = name\n",
        "        self.speed = speed\n",
        "        self.run_distance = 0\n",
        "    \n",
        "    def run(self, times):\n",
        "        self.run_distance += self.speed * times\n",
        "\n",
        "# your code\n",
        "# Create object with Animal class\n",
        "\n",
        "\n",
        "# call run method\n",
        "\n",
        "\n",
        "# print run distance\n",
        "print(tiger.run_distance)\n",
        "print(horse.run_distance)\n"
      ]
    },
    {
      "cell_type": "markdown",
      "metadata": {
        "nteract": {
          "transient": {
            "deleting": false
          }
        }
      },
      "source": [
        "# Exercise: Import and use Library\n",
        "\n",
        "1. Import datatime library\n",
        "2. Import factorial function from math library"
      ]
    },
    {
      "cell_type": "code",
      "execution_count": null,
      "metadata": {
        "collapsed": true,
        "gather": {
          "logged": 1626078502150
        },
        "jupyter": {
          "outputs_hidden": false,
          "source_hidden": false
        },
        "nteract": {
          "transient": {
            "deleting": false
          }
        }
      },
      "outputs": [],
      "source": [
        "# import library\n",
        "\n",
        "\n",
        "print(datetime.datetime.now())\n",
        "print(factorial(9))\n",
        "print(9*8*7*6*5*4*3*2*1)"
      ]
    }
  ],
  "metadata": {
    "interpreter": {
      "hash": "aee8b7b246df8f9039afb4144a1f6fd8d2ca17a180786b69acc140d282b71a49"
    },
    "kernel_info": {
      "name": "python3-azureml"
    },
    "kernelspec": {
      "display_name": "Python 3.10.1 64-bit",
      "language": "python",
      "name": "python3"
    },
    "language_info": {
      "codemirror_mode": {
        "name": "ipython",
        "version": 3
      },
      "file_extension": ".py",
      "mimetype": "text/x-python",
      "name": "python",
      "nbconvert_exporter": "python",
      "pygments_lexer": "ipython3",
      "version": "3.10.1"
    },
    "microsoft": {
      "host": {
        "AzureML": {
          "notebookHasBeenCompleted": true
        }
      }
    },
    "nteract": {
      "version": "nteract-front-end@1.0.0"
    }
  },
  "nbformat": 4,
  "nbformat_minor": 2
}
